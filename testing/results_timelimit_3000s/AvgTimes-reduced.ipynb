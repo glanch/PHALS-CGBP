{
 "cells": [
  {
   "cell_type": "code",
   "execution_count": 2,
   "metadata": {},
   "outputs": [],
   "source": [
    "import os\n",
    "import pandas as pd\n",
    "import numpy as np\n",
    "import matplotlib.pyplot as plt\n",
    "from matplotlib import rc, rcParams\n",
    "#rc('font', **{'family': 'serif', 'serif': ['CMU Sans Serif']})\n",
    "rc('text', usetex=True)\n",
    "rcParams.update({'figure.autolayout': True})"
   ]
  },
  {
   "cell_type": "code",
   "execution_count": 3,
   "metadata": {},
   "outputs": [],
   "source": [
    "title_p1 = \"\"#\"Durchschnittliche Lösungszeiten: \"\n",
    "title_suffix = \" Coils\"# \" Coils, Zeitlimit 3000s, drei Wdh.\"\n",
    "name= \"AvgSolvingTime.csv\"\n",
    "data=pd.read_csv(name) \n",
    "Instance_size=data[\"Coils\"].iloc[1:5].to_numpy()\n",
    "\n",
    "times=data[\"Zeit\"].dropna().to_numpy()\n",
    "\n",
    "instance4= np.zeros(5) \n",
    "instance8 = np.zeros(5) \n",
    "instance12 = np.zeros(5) \n",
    "instance20 = np.zeros(5) \n",
    "\n",
    "for i in range(len(times)):\n",
    "    if times[i]== 'Time Limit':\n",
    "        times[i]= str(0)\n",
    "\n",
    "\n",
    "for i in range(5):\n",
    "    instance4[i] = times[0 + i*4].replace(\",\", \".\") \n",
    "    instance8[i] = times[1 + i*4].replace(\",\", \".\")  \n",
    "    instance12[i] = times[2 + i*4].replace(\",\", \".\") \n",
    "    instance20[i] = times[3 + i*4].replace(\",\", \".\") \n",
    "\n",
    "a=instance4.copy()\n",
    "instance4[2]=a[3]\n",
    "instance4[3]=a[2]\n",
    "a=instance8.copy()\n",
    "instance8[2]=a[3]\n",
    "instance8[3]=a[2]\n",
    "\n",
    "instance= np.vstack((instance4,instance8,instance12,instance20))\n",
    "\n",
    "\n"
   ]
  },
  {
   "cell_type": "code",
   "execution_count": 4,
   "metadata": {},
   "outputs": [],
   "source": [
    "\n",
    "name_of_graph=[\"Kompaktes\\nModell\", \" Exakt\\nFarkas-\\nPricing  \", \"Exakt\\nKünstliche\\nVariablen\",\" Heuristisch\\nFarkas-\\nPricing  \", \"Heuristisch\\nKünstliche\\nVariablen\"]\n"
   ]
  },
  {
   "cell_type": "code",
   "execution_count": 29,
   "metadata": {},
   "outputs": [
    {
     "data": {
      "image/png": "[encoded data removed]",
      "text/plain": [
       "<Figure size 400x500 with 1 Axes>"
      ]
     },
     "metadata": {},
     "output_type": "display_data"
    }
   ],
   "source": [
    "\n",
    "#select plot\n",
    "i=1\n",
    "\n",
    "    \n",
    "title= str(int(Instance_size[i])) + \" Coils\" # + title_suffix\n",
    "\n",
    "colors = ['red', 'blue', 'gold', \"cyan\", \"orange\"]\n",
    "fig, ax = plt.subplots()\n",
    "\n",
    "fig.set_figwidth(4)\n",
    "fig.set_figheight(5)\n",
    "\n",
    "plt.bar(name_of_graph, instance[i], color=colors, width=0.6)\n",
    "\n",
    "plt.xlabel(\"Lösungsmethode\",fontweight='bold', size=13)\n",
    "plt.ylabel(\"Durchschnittl. Lösungszeit in [s]\",fontweight='bold', size=13)\n",
    "#plt.title(title, fontweight='bold', size=14)\n",
    "\n",
    "if i > 1:\n",
    "    if i==2:\n",
    "        space = 0.1\n",
    "    else:\n",
    "        space = 1\n",
    "    plt.text(4, space, 'Time Limit',rotation=90, fontsize=14.0)\n",
    "    plt.text(3, space, 'Time Limit',rotation=90, fontsize=14.0)\n",
    "    plt.text(2, space, 'Time Limit',rotation=90, fontsize=14.0)\n",
    "    plt.text(1, space, 'Time Limit',rotation=90, fontsize=14.0)\n",
    "\n",
    "plt.savefig(title + \".pdf\", format='pdf', bbox_inches='tight') # , dpi=800)\n",
    "    \n",
    "    \n"
   ]
  },
  {
   "cell_type": "code",
   "execution_count": 6,
   "metadata": {},
   "outputs": [
    {
     "data": {
      "text/plain": [
       "<Figure size 640x480 with 0 Axes>"
      ]
     },
     "metadata": {},
     "output_type": "display_data"
    },
    {
     "data": {
      "text/plain": [
       "<Figure size 300x400 with 0 Axes>"
      ]
     },
     "metadata": {},
     "output_type": "display_data"
    },
    {
     "data": {
      "text/plain": [
       "<Figure size 300x400 with 0 Axes>"
      ]
     },
     "metadata": {},
     "output_type": "display_data"
    },
    {
     "data": {
      "text/plain": [
       "<Figure size 300x400 with 0 Axes>"
      ]
     },
     "metadata": {},
     "output_type": "display_data"
    },
    {
     "data": {
      "image/png": "[encoded data removed]",
      "text/plain": [
       "<Figure size 300x400 with 1 Axes>"
      ]
     },
     "metadata": {},
     "output_type": "display_data"
    }
   ],
   "source": [
    "for i in range(0,4):\n",
    "    plt.clf()\n",
    "    title= title_p1 + str(int(Instance_size[i])) + title_suffix\n",
    "\n",
    "    colors = ['red', 'blue', 'orange']\n",
    "    plt.figure(figsize=(3,4))\n",
    "    fig= plt.bar(name_of_graph[0:3], instance[i][0:3], color=colors, width=0.6)\n",
    "\n",
    "    plt.xlabel(\"Lösungsmethode\",fontweight='bold', size=13)\n",
    "    plt.ylabel(\"Durschnittl. Lösungzeit in [s]\",fontweight='bold', size=13)\n",
    "    #plt.title(title, fontweight='bold', size=14)\n",
    "\n",
    "    if i > 1:\n",
    "        if i==2:\n",
    "            space = 0.1\n",
    "        else:\n",
    "            space = 1\n",
    "        #plt.text(4, space, 'Time Limit',rotation=90, fontsize=14.0)\n",
    "        #plt.text(3, space, 'Time Limit',rotation=90, fontsize=14.0)\n",
    "        plt.text(2, space, 'Time Limit',rotation=90, fontsize=14.0)\n",
    "        plt.text(1, space, 'Time Limit',rotation=90, fontsize=14.0)\n",
    "    plt.savefig(title + \".pdf\", format='pdf', bbox_inches='tight')\n"
   ]
  },
  {
   "cell_type": "code",
   "execution_count": 7,
   "metadata": {},
   "outputs": [
    {
     "data": {
      "text/plain": [
       "array([0.03, 0.73, 3.05, 1.37, 0.22])"
      ]
     },
     "execution_count": 7,
     "metadata": {},
     "output_type": "execute_result"
    }
   ],
   "source": [
    "instance[0]#[0:3]"
   ]
  },
  {
   "cell_type": "code",
   "execution_count": null,
   "metadata": {},
   "outputs": [],
   "source": []
  }
 ],
 "metadata": {
  "kernelspec": {
   "display_name": "Python 3 (ipykernel)",
   "language": "python",
   "name": "python3"
  },
  "language_info": {
   "codemirror_mode": {
    "name": "ipython",
    "version": 3
   },
   "file_extension": ".py",
   "mimetype": "text/x-python",
   "name": "python",
   "nbconvert_exporter": "python",
   "pygments_lexer": "ipython3",
   "version": "3.11.3"
  }
 },
 "nbformat": 4,
 "nbformat_minor": 2
}
